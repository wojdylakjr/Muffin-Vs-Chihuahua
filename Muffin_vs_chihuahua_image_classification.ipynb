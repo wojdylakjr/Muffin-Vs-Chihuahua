{
  "cells": [
    {
      "cell_type": "code",
      "execution_count": 16,
      "metadata": {
        "id": "VuxLLaRHYOV4",
        "colab": {
          "base_uri": "https://localhost:8080/"
        },
        "outputId": "87fe9dc4-2ff2-479b-c8ea-bea2deae0ad5"
      },
      "outputs": [
        {
          "output_type": "stream",
          "name": "stdout",
          "text": [
            "Requirement already satisfied: kaggle in /usr/local/lib/python3.10/dist-packages (1.5.15)\n",
            "Requirement already satisfied: six>=1.10 in /usr/local/lib/python3.10/dist-packages (from kaggle) (1.16.0)\n",
            "Requirement already satisfied: certifi in /usr/local/lib/python3.10/dist-packages (from kaggle) (2023.5.7)\n",
            "Requirement already satisfied: python-dateutil in /usr/local/lib/python3.10/dist-packages (from kaggle) (2.8.2)\n",
            "Requirement already satisfied: requests in /usr/local/lib/python3.10/dist-packages (from kaggle) (2.27.1)\n",
            "Requirement already satisfied: tqdm in /usr/local/lib/python3.10/dist-packages (from kaggle) (4.65.0)\n",
            "Requirement already satisfied: python-slugify in /usr/local/lib/python3.10/dist-packages (from kaggle) (8.0.1)\n",
            "Requirement already satisfied: urllib3 in /usr/local/lib/python3.10/dist-packages (from kaggle) (1.26.16)\n",
            "Requirement already satisfied: bleach in /usr/local/lib/python3.10/dist-packages (from kaggle) (6.0.0)\n",
            "Requirement already satisfied: webencodings in /usr/local/lib/python3.10/dist-packages (from bleach->kaggle) (0.5.1)\n",
            "Requirement already satisfied: text-unidecode>=1.3 in /usr/local/lib/python3.10/dist-packages (from python-slugify->kaggle) (1.3)\n",
            "Requirement already satisfied: charset-normalizer~=2.0.0 in /usr/local/lib/python3.10/dist-packages (from requests->kaggle) (2.0.12)\n",
            "Requirement already satisfied: idna<4,>=2.5 in /usr/local/lib/python3.10/dist-packages (from requests->kaggle) (3.4)\n",
            "Requirement already satisfied: ann_visualizer in /usr/local/lib/python3.10/dist-packages (2.5)\n",
            "Requirement already satisfied: graphviz in /usr/local/lib/python3.10/dist-packages (0.20.1)\n"
          ]
        }
      ],
      "source": [
        "import os\n",
        "import numpy as np\n",
        "import requests\n",
        "from zipfile import ZipFile\n",
        "from sklearn.model_selection import KFold\n",
        "from sklearn.metrics import accuracy_score\n",
        "import cv2\n",
        "from keras.models import Sequential\n",
        "from keras.layers import Conv2D, MaxPooling2D, Flatten, Dense\n",
        "from keras.optimizers import Adam\n",
        "from keras.losses import binary_crossentropy\n",
        "import matplotlib.pyplot as plt\n",
        "from itertools import product\n",
        "import time\n",
        "!pip install kaggle\n",
        "!pip3 install ann_visualizer\n",
        "!pip install graphviz\n",
        "from ann_visualizer.visualize import ann_viz\n",
        "from graphviz import Source"
      ]
    },
    {
      "cell_type": "code",
      "source": [],
      "metadata": {
        "id": "iwb4cakqy4sY"
      },
      "execution_count": 16,
      "outputs": []
    },
    {
      "cell_type": "code",
      "source": [],
      "metadata": {
        "id": "bCponXEIy5Cr"
      },
      "execution_count": 16,
      "outputs": []
    },
    {
      "cell_type": "markdown",
      "source": [],
      "metadata": {
        "id": "y_nI9jZKy5-q"
      }
    },
    {
      "cell_type": "code",
      "execution_count": 17,
      "metadata": {
        "id": "XTjXovRdb7MO",
        "colab": {
          "base_uri": "https://localhost:8080/",
          "height": 91
        },
        "outputId": "9294ebff-8ad5-4d28-9ec9-3bf13216dbf4"
      },
      "outputs": [
        {
          "output_type": "display_data",
          "data": {
            "text/plain": [
              "<IPython.core.display.HTML object>"
            ],
            "text/html": [
              "\n",
              "     <input type=\"file\" id=\"files-11f7acae-68e1-4e72-ac2f-fe86a75d9633\" name=\"files[]\" multiple disabled\n",
              "        style=\"border:none\" />\n",
              "     <output id=\"result-11f7acae-68e1-4e72-ac2f-fe86a75d9633\">\n",
              "      Upload widget is only available when the cell has been executed in the\n",
              "      current browser session. Please rerun this cell to enable.\n",
              "      </output>\n",
              "      <script>// Copyright 2017 Google LLC\n",
              "//\n",
              "// Licensed under the Apache License, Version 2.0 (the \"License\");\n",
              "// you may not use this file except in compliance with the License.\n",
              "// You may obtain a copy of the License at\n",
              "//\n",
              "//      http://www.apache.org/licenses/LICENSE-2.0\n",
              "//\n",
              "// Unless required by applicable law or agreed to in writing, software\n",
              "// distributed under the License is distributed on an \"AS IS\" BASIS,\n",
              "// WITHOUT WARRANTIES OR CONDITIONS OF ANY KIND, either express or implied.\n",
              "// See the License for the specific language governing permissions and\n",
              "// limitations under the License.\n",
              "\n",
              "/**\n",
              " * @fileoverview Helpers for google.colab Python module.\n",
              " */\n",
              "(function(scope) {\n",
              "function span(text, styleAttributes = {}) {\n",
              "  const element = document.createElement('span');\n",
              "  element.textContent = text;\n",
              "  for (const key of Object.keys(styleAttributes)) {\n",
              "    element.style[key] = styleAttributes[key];\n",
              "  }\n",
              "  return element;\n",
              "}\n",
              "\n",
              "// Max number of bytes which will be uploaded at a time.\n",
              "const MAX_PAYLOAD_SIZE = 100 * 1024;\n",
              "\n",
              "function _uploadFiles(inputId, outputId) {\n",
              "  const steps = uploadFilesStep(inputId, outputId);\n",
              "  const outputElement = document.getElementById(outputId);\n",
              "  // Cache steps on the outputElement to make it available for the next call\n",
              "  // to uploadFilesContinue from Python.\n",
              "  outputElement.steps = steps;\n",
              "\n",
              "  return _uploadFilesContinue(outputId);\n",
              "}\n",
              "\n",
              "// This is roughly an async generator (not supported in the browser yet),\n",
              "// where there are multiple asynchronous steps and the Python side is going\n",
              "// to poll for completion of each step.\n",
              "// This uses a Promise to block the python side on completion of each step,\n",
              "// then passes the result of the previous step as the input to the next step.\n",
              "function _uploadFilesContinue(outputId) {\n",
              "  const outputElement = document.getElementById(outputId);\n",
              "  const steps = outputElement.steps;\n",
              "\n",
              "  const next = steps.next(outputElement.lastPromiseValue);\n",
              "  return Promise.resolve(next.value.promise).then((value) => {\n",
              "    // Cache the last promise value to make it available to the next\n",
              "    // step of the generator.\n",
              "    outputElement.lastPromiseValue = value;\n",
              "    return next.value.response;\n",
              "  });\n",
              "}\n",
              "\n",
              "/**\n",
              " * Generator function which is called between each async step of the upload\n",
              " * process.\n",
              " * @param {string} inputId Element ID of the input file picker element.\n",
              " * @param {string} outputId Element ID of the output display.\n",
              " * @return {!Iterable<!Object>} Iterable of next steps.\n",
              " */\n",
              "function* uploadFilesStep(inputId, outputId) {\n",
              "  const inputElement = document.getElementById(inputId);\n",
              "  inputElement.disabled = false;\n",
              "\n",
              "  const outputElement = document.getElementById(outputId);\n",
              "  outputElement.innerHTML = '';\n",
              "\n",
              "  const pickedPromise = new Promise((resolve) => {\n",
              "    inputElement.addEventListener('change', (e) => {\n",
              "      resolve(e.target.files);\n",
              "    });\n",
              "  });\n",
              "\n",
              "  const cancel = document.createElement('button');\n",
              "  inputElement.parentElement.appendChild(cancel);\n",
              "  cancel.textContent = 'Cancel upload';\n",
              "  const cancelPromise = new Promise((resolve) => {\n",
              "    cancel.onclick = () => {\n",
              "      resolve(null);\n",
              "    };\n",
              "  });\n",
              "\n",
              "  // Wait for the user to pick the files.\n",
              "  const files = yield {\n",
              "    promise: Promise.race([pickedPromise, cancelPromise]),\n",
              "    response: {\n",
              "      action: 'starting',\n",
              "    }\n",
              "  };\n",
              "\n",
              "  cancel.remove();\n",
              "\n",
              "  // Disable the input element since further picks are not allowed.\n",
              "  inputElement.disabled = true;\n",
              "\n",
              "  if (!files) {\n",
              "    return {\n",
              "      response: {\n",
              "        action: 'complete',\n",
              "      }\n",
              "    };\n",
              "  }\n",
              "\n",
              "  for (const file of files) {\n",
              "    const li = document.createElement('li');\n",
              "    li.append(span(file.name, {fontWeight: 'bold'}));\n",
              "    li.append(span(\n",
              "        `(${file.type || 'n/a'}) - ${file.size} bytes, ` +\n",
              "        `last modified: ${\n",
              "            file.lastModifiedDate ? file.lastModifiedDate.toLocaleDateString() :\n",
              "                                    'n/a'} - `));\n",
              "    const percent = span('0% done');\n",
              "    li.appendChild(percent);\n",
              "\n",
              "    outputElement.appendChild(li);\n",
              "\n",
              "    const fileDataPromise = new Promise((resolve) => {\n",
              "      const reader = new FileReader();\n",
              "      reader.onload = (e) => {\n",
              "        resolve(e.target.result);\n",
              "      };\n",
              "      reader.readAsArrayBuffer(file);\n",
              "    });\n",
              "    // Wait for the data to be ready.\n",
              "    let fileData = yield {\n",
              "      promise: fileDataPromise,\n",
              "      response: {\n",
              "        action: 'continue',\n",
              "      }\n",
              "    };\n",
              "\n",
              "    // Use a chunked sending to avoid message size limits. See b/62115660.\n",
              "    let position = 0;\n",
              "    do {\n",
              "      const length = Math.min(fileData.byteLength - position, MAX_PAYLOAD_SIZE);\n",
              "      const chunk = new Uint8Array(fileData, position, length);\n",
              "      position += length;\n",
              "\n",
              "      const base64 = btoa(String.fromCharCode.apply(null, chunk));\n",
              "      yield {\n",
              "        response: {\n",
              "          action: 'append',\n",
              "          file: file.name,\n",
              "          data: base64,\n",
              "        },\n",
              "      };\n",
              "\n",
              "      let percentDone = fileData.byteLength === 0 ?\n",
              "          100 :\n",
              "          Math.round((position / fileData.byteLength) * 100);\n",
              "      percent.textContent = `${percentDone}% done`;\n",
              "\n",
              "    } while (position < fileData.byteLength);\n",
              "  }\n",
              "\n",
              "  // All done.\n",
              "  yield {\n",
              "    response: {\n",
              "      action: 'complete',\n",
              "    }\n",
              "  };\n",
              "}\n",
              "\n",
              "scope.google = scope.google || {};\n",
              "scope.google.colab = scope.google.colab || {};\n",
              "scope.google.colab._files = {\n",
              "  _uploadFiles,\n",
              "  _uploadFilesContinue,\n",
              "};\n",
              "})(self);\n",
              "</script> "
            ]
          },
          "metadata": {}
        },
        {
          "output_type": "stream",
          "name": "stdout",
          "text": [
            "Saving kaggle.json to kaggle (1).json\n"
          ]
        },
        {
          "output_type": "execute_result",
          "data": {
            "text/plain": [
              "{'kaggle (1).json': b'{\"username\":\"janwojdylak\",\"key\":\"39ad2ce3d50e08dcd9d8e4ba4feecea8\"}'}"
            ]
          },
          "metadata": {},
          "execution_count": 17
        }
      ],
      "source": [
        "from google.colab import files\n",
        "files.upload()"
      ]
    },
    {
      "cell_type": "code",
      "execution_count": 18,
      "metadata": {
        "id": "JO1GBLd1ehXN",
        "colab": {
          "base_uri": "https://localhost:8080/"
        },
        "outputId": "17e5c777-aa67-4924-e4a8-32d7298e8e5e"
      },
      "outputs": [
        {
          "output_type": "stream",
          "name": "stdout",
          "text": [
            "mkdir: cannot create directory ‘/root/.kaggle’: File exists\n"
          ]
        }
      ],
      "source": [
        "!mkdir ~/.kaggle\n",
        "!cp kaggle.json ~/.kaggle/"
      ]
    },
    {
      "cell_type": "code",
      "execution_count": 19,
      "metadata": {
        "id": "M04R-UIMehjc",
        "colab": {
          "base_uri": "https://localhost:8080/"
        },
        "outputId": "408504bb-5204-463b-8e7d-276603722c2f"
      },
      "outputs": [
        {
          "output_type": "stream",
          "name": "stdout",
          "text": [
            "mkdir: cannot create directory ‘/root/.kaggle’: File exists\n"
          ]
        }
      ],
      "source": [
        "!mkdir ~/.kaggle\n",
        "!cp kaggle.json ~/.kaggle/\n",
        "!chmod 600 ~/.kaggle/kaggle.json"
      ]
    },
    {
      "cell_type": "code",
      "execution_count": 20,
      "metadata": {
        "id": "yjUCF-GMcASz"
      },
      "outputs": [],
      "source": [
        "!kaggle datasets download -d samuelcortinhas/muffin-vs-chihuahua-image-classification\n",
        "!unzip muffin-vs-chihuahua-image-classification.zip -d /content/dataset"
      ]
    },
    {
      "cell_type": "code",
      "execution_count": 36,
      "metadata": {
        "id": "5hFc_Vhl5RHn"
      },
      "outputs": [],
      "source": [
        "def load_dataset():\n",
        "    x = []\n",
        "    y = []\n",
        "    classes = ['chihuahua', 'muffin']\n",
        "    dataset_path = '/content/dataset'\n",
        "\n",
        "    # Load training images and labels\n",
        "    for class_name in classes:\n",
        "        class_path = os.path.join(dataset_path, 'train', class_name)\n",
        "        for img_name in os.listdir(class_path):\n",
        "            img_path = os.path.join(class_path, img_name)\n",
        "            img = cv2.imread(img_path)\n",
        "            img = cv2.cvtColor(img, cv2.COLOR_BGR2RGB)\n",
        "            img = cv2.resize(img, (32, 32))\n",
        "            x.append(img)\n",
        "            y.append(classes.index(class_name))\n",
        "\n",
        "    # Load testing images and labels\n",
        "    for class_name in classes:\n",
        "        class_path = os.path.join(dataset_path, 'test', class_name)\n",
        "        for img_name in os.listdir(class_path):\n",
        "            img_path = os.path.join(class_path, img_name)\n",
        "            img = cv2.imread(img_path)\n",
        "            img = cv2.cvtColor(img, cv2.COLOR_BGR2RGB)\n",
        "            img = cv2.resize(img, (32, 32))\n",
        "            x.append(img)\n",
        "            y.append(classes.index(class_name))\n",
        "\n",
        "    x = np.array(x)\n",
        "    y = np.array(y)\n",
        "\n",
        "    return x,y"
      ]
    },
    {
      "cell_type": "code",
      "execution_count": 26,
      "metadata": {
        "id": "mf1SOFrG5Xf8"
      },
      "outputs": [],
      "source": [
        "# Load the dataset\n",
        "x,y = load_dataset()\n"
      ]
    },
    {
      "cell_type": "code",
      "source": [
        "# Normalize the pixel values between 0 and 1\n",
        "x = x / 255.0\n",
        "print(x[0])\n",
        "\n",
        "# Convert the labels to one-hot encoding\n",
        "num_classes = 2\n",
        "y = np.eye(num_classes)[y]\n"
      ],
      "metadata": {
        "colab": {
          "base_uri": "https://localhost:8080/"
        },
        "id": "hWIqRatJ-INg",
        "outputId": "807c325a-9df5-4f4a-9784-31b0f23278c8"
      },
      "execution_count": 32,
      "outputs": [
        {
          "output_type": "stream",
          "name": "stdout",
          "text": [
            "[[[0.91372549 0.9254902  0.96078431]\n",
            "  [0.84705882 0.89803922 0.92156863]\n",
            "  [0.78431373 0.83529412 0.85882353]\n",
            "  ...\n",
            "  [0.3372549  0.32941176 0.23921569]\n",
            "  [0.60784314 0.62745098 0.63921569]\n",
            "  [0.79215686 0.80784314 0.92156863]]\n",
            "\n",
            " [[0.8745098  0.92941176 0.97254902]\n",
            "  [0.83529412 0.88627451 0.90980392]\n",
            "  [0.58431373 0.67058824 0.48235294]\n",
            "  ...\n",
            "  [0.24313725 0.21568627 0.15686275]\n",
            "  [0.56078431 0.54117647 0.5254902 ]\n",
            "  [0.7372549  0.76078431 0.83137255]]\n",
            "\n",
            " [[0.83921569 0.88627451 0.93333333]\n",
            "  [0.80392157 0.85490196 0.88627451]\n",
            "  [0.40392157 0.49803922 0.2627451 ]\n",
            "  ...\n",
            "  [0.37647059 0.28235294 0.14901961]\n",
            "  [0.58039216 0.57647059 0.56862745]\n",
            "  [0.63921569 0.65490196 0.65098039]]\n",
            "\n",
            " ...\n",
            "\n",
            " [[0.8        0.89019608 0.43529412]\n",
            "  [0.45490196 0.55294118 0.06666667]\n",
            "  [0.39607843 0.51764706 0.0627451 ]\n",
            "  ...\n",
            "  [0.2        0.29019608 0.07058824]\n",
            "  [0.35686275 0.47843137 0.21568627]\n",
            "  [0.3372549  0.42745098 0.20784314]]\n",
            "\n",
            " [[0.29411765 0.37647059 0.        ]\n",
            "  [0.71764706 0.81960784 0.38823529]\n",
            "  [0.49803922 0.56078431 0.1372549 ]\n",
            "  ...\n",
            "  [0.25882353 0.38039216 0.11764706]\n",
            "  [0.77647059 0.89019608 0.52941176]\n",
            "  [0.1254902  0.21176471 0.03137255]]\n",
            "\n",
            " [[0.58823529 0.69019608 0.16470588]\n",
            "  [0.52156863 0.62745098 0.0745098 ]\n",
            "  [0.54509804 0.68235294 0.18823529]\n",
            "  ...\n",
            "  [0.77647059 0.88627451 0.59215686]\n",
            "  [0.41568627 0.55294118 0.02745098]\n",
            "  [0.47843137 0.59607843 0.        ]]]\n"
          ]
        }
      ]
    },
    {
      "cell_type": "code",
      "source": [
        "# Get basic information about the loaded data\n",
        "print(\"Data:\")\n",
        "print(\"  Number of samples:\", len(x))\n",
        "print(\"  Data type:\", x.dtype)\n",
        "print(\"  Data shape:\", x.shape)\n",
        "\n",
        "print(\"\\nTraining Labels:\")\n",
        "print(\"  Number of labels:\", len(y))\n",
        "print(\" Labels: \", y)\n",
        "print(\"  Data type:\", y.dtype)\n",
        "print(\"  Label shape:\", y.shape)"
      ],
      "metadata": {
        "colab": {
          "base_uri": "https://localhost:8080/"
        },
        "id": "Ns5f1hur-JIO",
        "outputId": "305fbad2-e079-4306-87bf-424f22af4638"
      },
      "execution_count": 33,
      "outputs": [
        {
          "output_type": "stream",
          "name": "stdout",
          "text": [
            "Data:\n",
            "  Number of samples: 5917\n",
            "  Data type: float64\n",
            "  Data shape: (5917, 32, 32, 3)\n",
            "\n",
            "Training Labels:\n",
            "  Number of labels: 5917\n",
            " Labels:  [[1. 0.]\n",
            " [1. 0.]\n",
            " [1. 0.]\n",
            " ...\n",
            " [0. 1.]\n",
            " [0. 1.]\n",
            " [0. 1.]]\n",
            "  Data type: float64\n",
            "  Label shape: (5917, 2)\n"
          ]
        }
      ]
    },
    {
      "cell_type": "code",
      "source": [
        "# Select an image index to display\n",
        "image_index = 4000\n",
        "\n",
        "# Display the image and label\n",
        "plt.imshow(x[image_index])\n",
        "class_index = y[image_index]\n",
        "plt.title(class_index)\n",
        "plt.axis(\"off\")\n",
        "plt.show()"
      ],
      "metadata": {
        "colab": {
          "base_uri": "https://localhost:8080/",
          "height": 484
        },
        "id": "EU4Th75D-LrI",
        "outputId": "f5da3f1c-19fd-491b-92b8-b9c3b56f0b78"
      },
      "execution_count": 34,
      "outputs": [
        {
          "output_type": "stream",
          "name": "stderr",
          "text": [
            "/usr/local/lib/python3.10/dist-packages/matplotlib/text.py:1279: FutureWarning: elementwise comparison failed; returning scalar instead, but in the future will perform elementwise comparison\n",
            "  if s != self._text:\n"
          ]
        },
        {
          "output_type": "display_data",
          "data": {
            "text/plain": [
              "<Figure size 640x480 with 1 Axes>"
            ],
            "image/png": "[encoded data removed]"
          },
          "metadata": {}
        }
      ]
    },
    {
      "cell_type": "code",
      "execution_count": 27,
      "metadata": {
        "id": "9D80AquX-LDw"
      },
      "outputs": [],
      "source": [
        "def plot_training_history(history, learning_rate, batch_size, epochs, model):\n",
        "    # Plot the training loss and accuracy on the same plot\n",
        "    epochs = range(1, len(history.history['loss']) + 1)\n",
        "    plt.plot(epochs, history.history['loss'], 'b',label='Training Loss')\n",
        "    plt.plot(epochs, history.history['accuracy'], 'r', label='Training Accuracy')\n",
        "    plt.plot(epochs, [1 - accuracy for accuracy in history.history['val_accuracy']], label='Validation zero - one loss', marker='o', linestyle='-', color='black')\n",
        "\n",
        "    plt.title('Training and Validation Loss and Accuracy')\n",
        "    plt.xlabel('Epoch')\n",
        "    plt.suptitle(f\"Number of epochs: { epochs}  Learning rate:  {learning_rate}  Batch size  {batch_size} {model}\", ha='center')\n",
        "    plt.legend()\n",
        "    plt.show()"
      ]
    },
    {
      "cell_type": "code",
      "execution_count": 28,
      "metadata": {
        "id": "dcqd1qbUM6_4"
      },
      "outputs": [],
      "source": [
        "def create_model1():\n",
        "    model = Sequential()\n",
        "    model.add(Conv2D(32, (3, 3), activation='relu', input_shape=(32, 32, 3)))\n",
        "    model.add(MaxPooling2D(pool_size=(2, 2)))\n",
        "    model.add(Flatten())\n",
        "    model.add(Dense(128, activation='relu'))\n",
        "    model.add(Dense(2, activation='softmax'))\n",
        "    ann_viz(model, view=True, title=\"Neural network plot\")\n",
        "    Source.from_file('/content/network.gv')\n",
        "    return model"
      ]
    },
    {
      "cell_type": "code",
      "execution_count": 29,
      "metadata": {
        "id": "djWDNM3bQ7qY"
      },
      "outputs": [],
      "source": [
        "def create_model2():\n",
        "    model = Sequential()\n",
        "    model.add(Conv2D(64, (3, 3), activation='relu', input_shape=(32, 32, 3)))\n",
        "    model.add(MaxPooling2D(pool_size=(2, 2)))\n",
        "    model.add(Conv2D(64, (3, 3), activation='relu'))\n",
        "    model.add(MaxPooling2D(pool_size=(2, 2)))\n",
        "    model.add(Flatten())\n",
        "    model.add(Dense(64, activation='relu'))\n",
        "    model.add(Dense(2, activation='softmax'))\n",
        "    ann_viz(model, view=True, title=\"Neural network plot\")\n",
        "    Source.from_file('/content/network.gv')\n",
        "    return model\n"
      ]
    },
    {
      "cell_type": "code",
      "execution_count": 30,
      "metadata": {
        "id": "bpI7PuB5SN5p"
      },
      "outputs": [],
      "source": [
        "def create_model3():\n",
        "    model = Sequential()\n",
        "    model.add(Conv2D(32, (3, 3), activation='relu', input_shape=(32, 32, 3)))\n",
        "    model.add(MaxPooling2D(pool_size=(2, 2)))\n",
        "    model.add(Conv2D(64, (3, 3), activation='relu'))\n",
        "    model.add(MaxPooling2D(pool_size=(2, 2)))\n",
        "    model.add(Conv2D(128, (3, 3), activation='relu'))\n",
        "    model.add(MaxPooling2D(pool_size=(2, 2)))\n",
        "    model.add(Flatten())\n",
        "    model.add(Dense(128, activation='relu'))\n",
        "    model.add(Dense(2, activation='softmax'))\n",
        "    ann_viz(model, view=True, title=\"Neural network plot\")\n",
        "    Source.from_file('/content/network.gv')\n",
        "    return model"
      ]
    },
    {
      "cell_type": "code",
      "execution_count": null,
      "metadata": {
        "id": "2RYwqOxJfBS6",
        "colab": {
          "base_uri": "https://localhost:8080/"
        },
        "outputId": "bc54ac3b-0655-44bc-b8ae-a8f2e04c6ca1"
      },
      "outputs": [
        {
          "output_type": "stream",
          "name": "stdout",
          "text": [
            "Fold: 1\n",
            "x_train_fold size:  4733\n",
            "x_validation_fold size:  1184\n",
            "y_train_fold size:  4733\n",
            "y_validation_fold size:  1184\n",
            "Model: \"sequential_6\"\n",
            "_________________________________________________________________\n",
            " Layer (type)                Output Shape              Param #   \n",
            "=================================================================\n",
            " conv2d_11 (Conv2D)          (None, 30, 30, 64)        1792      \n",
            "                                                                 \n",
            " max_pooling2d_11 (MaxPoolin  (None, 15, 15, 64)       0         \n",
            " g2D)                                                            \n",
            "                                                                 \n",
            " conv2d_12 (Conv2D)          (None, 13, 13, 64)        36928     \n",
            "                                                                 \n",
            " max_pooling2d_12 (MaxPoolin  (None, 6, 6, 64)         0         \n",
            " g2D)                                                            \n",
            "                                                                 \n",
            " flatten_6 (Flatten)         (None, 2304)              0         \n",
            "                                                                 \n",
            " dense_12 (Dense)            (None, 64)                147520    \n",
            "                                                                 \n",
            " dense_13 (Dense)            (None, 2)                 130       \n",
            "                                                                 \n",
            "=================================================================\n",
            "Total params: 186,370\n",
            "Trainable params: 186,370\n",
            "Non-trainable params: 0\n",
            "_________________________________________________________________\n",
            "Epoch 1/8\n",
            "296/296 [==============================] - 13s 41ms/step - loss: 0.6879 - accuracy: 0.5757 - val_loss: 0.9138 - val_accuracy: 0.0000e+00\n",
            "Epoch 2/8\n",
            "296/296 [==============================] - 12s 41ms/step - loss: 0.6828 - accuracy: 0.5743 - val_loss: 0.8350 - val_accuracy: 0.0000e+00\n",
            "Epoch 3/8\n",
            "296/296 [==============================] - 13s 43ms/step - loss: 0.6824 - accuracy: 0.5743 - val_loss: 0.8583 - val_accuracy: 0.0000e+00\n",
            "Epoch 4/8\n",
            "296/296 [==============================] - 13s 43ms/step - loss: 0.6820 - accuracy: 0.5743 - val_loss: 0.9295 - val_accuracy: 0.0000e+00\n",
            "Epoch 5/8\n",
            "296/296 [==============================] - 12s 40ms/step - loss: 0.6825 - accuracy: 0.5743 - val_loss: 0.8450 - val_accuracy: 0.0000e+00\n",
            "Epoch 6/8\n",
            "296/296 [==============================] - 14s 46ms/step - loss: 0.6824 - accuracy: 0.5743 - val_loss: 0.8709 - val_accuracy: 0.0000e+00\n",
            "Epoch 7/8\n",
            " 60/296 [=====>........................] - ETA: 8s - loss: 0.6826 - accuracy: 0.5740"
          ]
        }
      ],
      "source": [
        "n_splits = 5\n",
        "\n",
        "hyperparameters = {\n",
        "    'learning_rate': [0.01, 0.001, 0.0001],\n",
        "    'batch_size': [16, 64, 128],\n",
        "    'epochs': [8,16,24],\n",
        "}\n",
        "\n",
        "results = []\n",
        "# Define the K-Fold cross-validation\n",
        "kfold = KFold(n_splits=5)\n",
        "fold = 1\n",
        "cv_accuracy = []\n",
        "cv_loss = []\n",
        "cv_zero_one_loss = []\n",
        "learning_times = []\n",
        "\n",
        "for hyperparam in product(*hyperparameters.values()):\n",
        "    hyperparam = dict(zip(hyperparameters.keys(), hyperparam))\n",
        "    learning_rate = hyperparam['learning_rate']\n",
        "    batch_size = hyperparam['batch_size']\n",
        "    epochs = hyperparam['epochs']\n",
        "    fold = 1\n",
        "    for train_index, validation_index in kfold.split(x, y):\n",
        "        # Split the data into training and validation sets\n",
        "        x_train_fold, x_validation_fold = x[train_index], x[validation_index]\n",
        "        y_train_fold, y_validation_fold = y[train_index], y[validation_index]\n",
        "\n",
        "        print(f\"Fold: {fold}\")\n",
        "        print(\"x_train_fold size: \", len(x_train_fold))\n",
        "        print(\"x_validation_fold size: \", len(x_validation_fold))\n",
        "        print(\"y_train_fold size: \", len(y_train_fold))\n",
        "        print(\"y_validation_fold size: \", len(y_validation_fold))\n",
        "\n",
        "        # Create the model\n",
        "        model = create_model2()\n",
        "        model.summary()\n",
        "\n",
        "        # Compile the model\n",
        "        optimizer = Adam(learning_rate=learning_rate)\n",
        "        model.compile(optimizer=optimizer, loss=binary_crossentropy, metrics=['accuracy'])\n",
        "\n",
        "        # Train the model\n",
        "        start = time.time()\n",
        "        history = model.fit(x_train_fold, y_train_fold, batch_size=batch_size, epochs=epochs, verbose=1, validation_data=(x_validation_fold, y_validation_fold))\n",
        "        end = time.time()\n",
        "        learning_times.append(end - start) # time in seconds\n",
        "\n",
        "        plot_training_history(history, learning_rate, batch_size, epochs, \"model2\")\n",
        "\n",
        "        validation_loss, validation_accuracy = model.evaluate(x_validation_fold, y_validation_fold, verbose=0)\n",
        "        validation_zero_one_loss = 1 - validation_accuracy\n",
        "\n",
        "        cv_accuracy.append(validation_accuracy)\n",
        "        cv_loss.append(validation_loss)\n",
        "        cv_zero_one_loss.append(validation_zero_one_loss)\n",
        "\n",
        "        print(\"test accuracy:\", validation_accuracy)\n",
        "        print(\"test loss:\", validation_loss)\n",
        "        print(\"Zero-One Loss on Test Fold: \",validation_zero_one_loss )\n",
        "\n",
        "        #get_metrics_resault\n",
        "        print(\"get_metrics_result: \", model.get_metrics_result())\n",
        "        # Store the results\n",
        "        results.append({\n",
        "                  'hyperparameters': hyperparam,\n",
        "                  'val_loss': validation_loss,\n",
        "                  'val_acc': validation_accuracy,\n",
        "              })\n",
        "        fold += 1\n",
        "\n",
        "    # Compute the average cross-validated results\n",
        "    mean_cv_accuracy = np.mean(cv_accuracy)\n",
        "    mean_cv_loss = np.mean(cv_loss)\n",
        "    mean_cv_zero_one_loss = np.mean(cv_zero_one_loss)\n",
        "    mean_learning_time = np.mean(learning_times)\n",
        "    print(\"Cross-Validated Accuracy:\", mean_cv_accuracy)\n",
        "    print(\"Cross-Validated Loss:\", mean_cv_loss)\n",
        "    print(\"mean_cv_zero_one_loss\", mean_cv_zero_one_loss)\n",
        "    print(\"cv_zero_one_loss\", cv_zero_one_loss)\n",
        "    print(\"mean_learning_time\",mean_learning_time )\n",
        "    print(\"learning times\",learning_times )\n",
        "    cv_accuracy.clear()\n",
        "    cv_loss.clear()\n",
        "    cv_zero_one_loss.clear()\n",
        "    learning_times.clear()\n",
        "print(results)"
      ]
    },
    {
      "cell_type": "code",
      "source": [],
      "metadata": {
        "id": "y8jdHrp96Zx5"
      },
      "execution_count": null,
      "outputs": []
    }
  ],
  "metadata": {
    "colab": {
      "provenance": []
    },
    "kernelspec": {
      "display_name": "Python 3",
      "name": "python3"
    },
    "language_info": {
      "name": "python"
    }
  },
  "nbformat": 4,
  "nbformat_minor": 0
}